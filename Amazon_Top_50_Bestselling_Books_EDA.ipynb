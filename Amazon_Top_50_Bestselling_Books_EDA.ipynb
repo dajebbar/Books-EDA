{
  "nbformat": 4,
  "nbformat_minor": 0,
  "metadata": {
    "colab": {
      "name": "Amazon Top 50 Bestselling Books EDA.ipynb",
      "provenance": [],
      "collapsed_sections": [],
      "authorship_tag": "ABX9TyNBZdHoTLAVbp4oZ/p6XYtV",
      "include_colab_link": true
    },
    "kernelspec": {
      "name": "python3",
      "display_name": "Python 3"
    }
  },
  "cells": [
    {
      "cell_type": "markdown",
      "metadata": {
        "id": "view-in-github",
        "colab_type": "text"
      },
      "source": [
        "<a href=\"https://colab.research.google.com/github/dajebbar/Books-EDA/blob/main/Amazon_Top_50_Bestselling_Books_EDA.ipynb\" target=\"_parent\"><img src=\"https://colab.research.google.com/assets/colab-badge.svg\" alt=\"Open In Colab\"/></a>"
      ]
    },
    {
      "cell_type": "markdown",
      "metadata": {
        "id": "j7XC7RTzSfL9"
      },
      "source": [
        "# AMAZON TOP 50 BESTSELLING BOOKS\n",
        "\n",
        "### Description\n",
        "Dataset on Amazon's Top 50 bestselling books from 2009 to 2019. Contains 550 books, data has been categorized into fiction and non-fiction using Goodreads. [link to dataset](https://www.kaggle.com/sootersaalu/amazon-top-50-bestselling-books-2009-2019)\n",
        "\n",
        "### Objectif\n",
        "Deduce a comparison between the 50 best-selling books against two major categories, fiction and non-fiction. I will make an Explanatory Data Analysis (EDA) to Top 50 bestselling books of each year from 2009 to 2019, then make hypothesis testing to significant features."
      ]
    },
    {
      "cell_type": "code",
      "metadata": {
        "id": "t0PO5GbW_ZUi",
        "colab": {
          "base_uri": "https://localhost:8080/"
        },
        "outputId": "ca910133-b301-4e5b-9a9e-6a7e01da00d8"
      },
      "source": [
        "from google.colab import drive\n",
        "drive.mount('/content/drive')"
      ],
      "execution_count": null,
      "outputs": [
        {
          "output_type": "stream",
          "text": [
            "Mounted at /content/drive\n"
          ],
          "name": "stdout"
        }
      ]
    },
    {
      "cell_type": "code",
      "metadata": {
        "id": "YkiZTuSsQHuw"
      },
      "source": [
        "# data processing\n",
        "import numpy as np\n",
        "import pandas as pd\n",
        "\n",
        "# visualization\n",
        "import matplotlib.pyplot as plt\n",
        "plt.style.use('fivethirtyeight')\n",
        "\n",
        "import seaborn as sns\n",
        "\n",
        "# Special Visualization\n",
        "import missingno as msno # check missing value\n",
        "\n",
        "%matplotlib inline"
      ],
      "execution_count": null,
      "outputs": []
    },
    {
      "cell_type": "markdown",
      "metadata": {
        "id": "8uJSD2BXVaD4"
      },
      "source": [
        "## Reading the data"
      ]
    },
    {
      "cell_type": "code",
      "metadata": {
        "colab": {
          "base_uri": "https://localhost:8080/",
          "height": 204
        },
        "id": "oMTtqHM_Qah6",
        "outputId": "3e558430-5896-4759-964a-d46c950506d9"
      },
      "source": [
        "books_df = pd.read_csv('/content/drive/MyDrive/datasets/books/bestsellers_books.csv')\n",
        "books_df.head()"
      ],
      "execution_count": null,
      "outputs": [
        {
          "output_type": "execute_result",
          "data": {
            "text/html": [
              "<div>\n",
              "<style scoped>\n",
              "    .dataframe tbody tr th:only-of-type {\n",
              "        vertical-align: middle;\n",
              "    }\n",
              "\n",
              "    .dataframe tbody tr th {\n",
              "        vertical-align: top;\n",
              "    }\n",
              "\n",
              "    .dataframe thead th {\n",
              "        text-align: right;\n",
              "    }\n",
              "</style>\n",
              "<table border=\"1\" class=\"dataframe\">\n",
              "  <thead>\n",
              "    <tr style=\"text-align: right;\">\n",
              "      <th></th>\n",
              "      <th>Name</th>\n",
              "      <th>Author</th>\n",
              "      <th>User Rating</th>\n",
              "      <th>Reviews</th>\n",
              "      <th>Price</th>\n",
              "      <th>Year</th>\n",
              "      <th>Genre</th>\n",
              "    </tr>\n",
              "  </thead>\n",
              "  <tbody>\n",
              "    <tr>\n",
              "      <th>0</th>\n",
              "      <td>10-Day Green Smoothie Cleanse</td>\n",
              "      <td>JJ Smith</td>\n",
              "      <td>4.7</td>\n",
              "      <td>17350</td>\n",
              "      <td>8</td>\n",
              "      <td>2016</td>\n",
              "      <td>Non Fiction</td>\n",
              "    </tr>\n",
              "    <tr>\n",
              "      <th>1</th>\n",
              "      <td>11/22/63: A Novel</td>\n",
              "      <td>Stephen King</td>\n",
              "      <td>4.6</td>\n",
              "      <td>2052</td>\n",
              "      <td>22</td>\n",
              "      <td>2011</td>\n",
              "      <td>Fiction</td>\n",
              "    </tr>\n",
              "    <tr>\n",
              "      <th>2</th>\n",
              "      <td>12 Rules for Life: An Antidote to Chaos</td>\n",
              "      <td>Jordan B. Peterson</td>\n",
              "      <td>4.7</td>\n",
              "      <td>18979</td>\n",
              "      <td>15</td>\n",
              "      <td>2018</td>\n",
              "      <td>Non Fiction</td>\n",
              "    </tr>\n",
              "    <tr>\n",
              "      <th>3</th>\n",
              "      <td>1984 (Signet Classics)</td>\n",
              "      <td>George Orwell</td>\n",
              "      <td>4.7</td>\n",
              "      <td>21424</td>\n",
              "      <td>6</td>\n",
              "      <td>2017</td>\n",
              "      <td>Fiction</td>\n",
              "    </tr>\n",
              "    <tr>\n",
              "      <th>4</th>\n",
              "      <td>5,000 Awesome Facts (About Everything!) (Natio...</td>\n",
              "      <td>National Geographic Kids</td>\n",
              "      <td>4.8</td>\n",
              "      <td>7665</td>\n",
              "      <td>12</td>\n",
              "      <td>2019</td>\n",
              "      <td>Non Fiction</td>\n",
              "    </tr>\n",
              "  </tbody>\n",
              "</table>\n",
              "</div>"
            ],
            "text/plain": [
              "                                                Name  ...        Genre\n",
              "0                      10-Day Green Smoothie Cleanse  ...  Non Fiction\n",
              "1                                  11/22/63: A Novel  ...      Fiction\n",
              "2            12 Rules for Life: An Antidote to Chaos  ...  Non Fiction\n",
              "3                             1984 (Signet Classics)  ...      Fiction\n",
              "4  5,000 Awesome Facts (About Everything!) (Natio...  ...  Non Fiction\n",
              "\n",
              "[5 rows x 7 columns]"
            ]
          },
          "metadata": {
            "tags": []
          },
          "execution_count": 32
        }
      ]
    },
    {
      "cell_type": "code",
      "metadata": {
        "colab": {
          "base_uri": "https://localhost:8080/",
          "height": 529
        },
        "id": "6BhDGrnaUd2b",
        "outputId": "4f8d0583-e834-41bb-c8b2-2e6ed7c6d4a2"
      },
      "source": [
        "# let's check the missing value\n",
        "\n",
        "msno.matrix(books_df)"
      ],
      "execution_count": null,
      "outputs": [
        {
          "output_type": "execute_result",
          "data": {
            "text/plain": [
              "<matplotlib.axes._subplots.AxesSubplot at 0x7fa6efdd4710>"
            ]
          },
          "metadata": {
            "tags": []
          },
          "execution_count": 4
        },
        {
          "output_type": "display_data",
          "data": {
            "image/png": "[encoded data removed]",
            "text/plain": [
              "<Figure size 1800x720 with 2 Axes>"
            ]
          },
          "metadata": {
            "tags": [],
            "needs_background": "light"
          }
        }
      ]
    },
    {
      "cell_type": "markdown",
      "metadata": {
        "id": "dzLov6tqWnFF"
      },
      "source": [
        "The dataset has no missing values."
      ]
    },
    {
      "cell_type": "code",
      "metadata": {
        "colab": {
          "base_uri": "https://localhost:8080/"
        },
        "id": "OBb_-AYQWkU-",
        "outputId": "3689a7dc-56be-48aa-81eb-5efb63fbc4a5"
      },
      "source": [
        "books_df.info()"
      ],
      "execution_count": null,
      "outputs": [
        {
          "output_type": "stream",
          "text": [
            "<class 'pandas.core.frame.DataFrame'>\n",
            "RangeIndex: 550 entries, 0 to 549\n",
            "Data columns (total 7 columns):\n",
            " #   Column       Non-Null Count  Dtype  \n",
            "---  ------       --------------  -----  \n",
            " 0   Name         550 non-null    object \n",
            " 1   Author       550 non-null    object \n",
            " 2   User Rating  550 non-null    float64\n",
            " 3   Reviews      550 non-null    int64  \n",
            " 4   Price        550 non-null    int64  \n",
            " 5   Year         550 non-null    int64  \n",
            " 6   Genre        550 non-null    object \n",
            "dtypes: float64(1), int64(3), object(3)\n",
            "memory usage: 30.2+ KB\n"
          ],
          "name": "stdout"
        }
      ]
    },
    {
      "cell_type": "markdown",
      "metadata": {
        "id": "7YLwZAcrXDBQ"
      },
      "source": [
        "We can see that `Name`, `Author` and `Genre` features are in the wrong dtype. Let's fix it."
      ]
    },
    {
      "cell_type": "code",
      "metadata": {
        "id": "m_RzK1VMW-Rq"
      },
      "source": [
        "books_df.Name = books_df.Name.astype('category')\n",
        "books_df.Author = books_df.Author.astype('category')\n",
        "books_df.Genre = books_df.Genre.astype('category')\n",
        "books_df['Year'] = pd.to_datetime(books_df['Year'], format='%Y')"
      ],
      "execution_count": null,
      "outputs": []
    },
    {
      "cell_type": "code",
      "metadata": {
        "colab": {
          "base_uri": "https://localhost:8080/"
        },
        "id": "JY559WjUYvE1",
        "outputId": "02085c11-fb8c-469d-e6b3-8462fd2c1a31"
      },
      "source": [
        "books_df.info()"
      ],
      "execution_count": null,
      "outputs": [
        {
          "output_type": "stream",
          "text": [
            "<class 'pandas.core.frame.DataFrame'>\n",
            "RangeIndex: 550 entries, 0 to 549\n",
            "Data columns (total 7 columns):\n",
            " #   Column       Non-Null Count  Dtype         \n",
            "---  ------       --------------  -----         \n",
            " 0   Name         550 non-null    category      \n",
            " 1   Author       550 non-null    category      \n",
            " 2   User Rating  550 non-null    float64       \n",
            " 3   Reviews      550 non-null    int64         \n",
            " 4   Price        550 non-null    int64         \n",
            " 5   Year         550 non-null    datetime64[ns]\n",
            " 6   Genre        550 non-null    category      \n",
            "dtypes: category(3), datetime64[ns](1), float64(1), int64(2)\n",
            "memory usage: 44.8 KB\n"
          ],
          "name": "stdout"
        }
      ]
    },
    {
      "cell_type": "code",
      "metadata": {
        "colab": {
          "base_uri": "https://localhost:8080/"
        },
        "id": "m6ZsBcrFx-Km",
        "outputId": "31dfc067-fc50-4ede-deaa-4fe5f1569407"
      },
      "source": [
        "books_df.Year"
      ],
      "execution_count": null,
      "outputs": [
        {
          "output_type": "execute_result",
          "data": {
            "text/plain": [
              "0     2016-01-01\n",
              "1     2011-01-01\n",
              "2     2018-01-01\n",
              "3     2017-01-01\n",
              "4     2019-01-01\n",
              "         ...    \n",
              "545   2019-01-01\n",
              "546   2016-01-01\n",
              "547   2017-01-01\n",
              "548   2018-01-01\n",
              "549   2019-01-01\n",
              "Name: Year, Length: 550, dtype: datetime64[ns]"
            ]
          },
          "metadata": {
            "tags": []
          },
          "execution_count": 35
        }
      ]
    },
    {
      "cell_type": "code",
      "metadata": {
        "colab": {
          "base_uri": "https://localhost:8080/",
          "height": 297
        },
        "id": "9uvKXz2UYy3a",
        "outputId": "395ad598-9681-44d5-881b-63ac749ee93a"
      },
      "source": [
        "# numerical describe\n",
        "books_df.describe()"
      ],
      "execution_count": null,
      "outputs": [
        {
          "output_type": "execute_result",
          "data": {
            "text/html": [
              "<div>\n",
              "<style scoped>\n",
              "    .dataframe tbody tr th:only-of-type {\n",
              "        vertical-align: middle;\n",
              "    }\n",
              "\n",
              "    .dataframe tbody tr th {\n",
              "        vertical-align: top;\n",
              "    }\n",
              "\n",
              "    .dataframe thead th {\n",
              "        text-align: right;\n",
              "    }\n",
              "</style>\n",
              "<table border=\"1\" class=\"dataframe\">\n",
              "  <thead>\n",
              "    <tr style=\"text-align: right;\">\n",
              "      <th></th>\n",
              "      <th>User Rating</th>\n",
              "      <th>Reviews</th>\n",
              "      <th>Price</th>\n",
              "    </tr>\n",
              "  </thead>\n",
              "  <tbody>\n",
              "    <tr>\n",
              "      <th>count</th>\n",
              "      <td>550.000000</td>\n",
              "      <td>550.000000</td>\n",
              "      <td>550.000000</td>\n",
              "    </tr>\n",
              "    <tr>\n",
              "      <th>mean</th>\n",
              "      <td>4.618364</td>\n",
              "      <td>11953.281818</td>\n",
              "      <td>13.100000</td>\n",
              "    </tr>\n",
              "    <tr>\n",
              "      <th>std</th>\n",
              "      <td>0.226980</td>\n",
              "      <td>11731.132017</td>\n",
              "      <td>10.842262</td>\n",
              "    </tr>\n",
              "    <tr>\n",
              "      <th>min</th>\n",
              "      <td>3.300000</td>\n",
              "      <td>37.000000</td>\n",
              "      <td>0.000000</td>\n",
              "    </tr>\n",
              "    <tr>\n",
              "      <th>25%</th>\n",
              "      <td>4.500000</td>\n",
              "      <td>4058.000000</td>\n",
              "      <td>7.000000</td>\n",
              "    </tr>\n",
              "    <tr>\n",
              "      <th>50%</th>\n",
              "      <td>4.700000</td>\n",
              "      <td>8580.000000</td>\n",
              "      <td>11.000000</td>\n",
              "    </tr>\n",
              "    <tr>\n",
              "      <th>75%</th>\n",
              "      <td>4.800000</td>\n",
              "      <td>17253.250000</td>\n",
              "      <td>16.000000</td>\n",
              "    </tr>\n",
              "    <tr>\n",
              "      <th>max</th>\n",
              "      <td>4.900000</td>\n",
              "      <td>87841.000000</td>\n",
              "      <td>105.000000</td>\n",
              "    </tr>\n",
              "  </tbody>\n",
              "</table>\n",
              "</div>"
            ],
            "text/plain": [
              "       User Rating       Reviews       Price\n",
              "count   550.000000    550.000000  550.000000\n",
              "mean      4.618364  11953.281818   13.100000\n",
              "std       0.226980  11731.132017   10.842262\n",
              "min       3.300000     37.000000    0.000000\n",
              "25%       4.500000   4058.000000    7.000000\n",
              "50%       4.700000   8580.000000   11.000000\n",
              "75%       4.800000  17253.250000   16.000000\n",
              "max       4.900000  87841.000000  105.000000"
            ]
          },
          "metadata": {
            "tags": []
          },
          "execution_count": 36
        }
      ]
    },
    {
      "cell_type": "code",
      "metadata": {
        "colab": {
          "base_uri": "https://localhost:8080/",
          "height": 173
        },
        "id": "XCk9Swj0Y-PZ",
        "outputId": "d63a61e6-7b40-4216-faef-016e7d1ebb41"
      },
      "source": [
        "# categorical describe\n",
        "books_df.describe(include='category')"
      ],
      "execution_count": null,
      "outputs": [
        {
          "output_type": "execute_result",
          "data": {
            "text/html": [
              "<div>\n",
              "<style scoped>\n",
              "    .dataframe tbody tr th:only-of-type {\n",
              "        vertical-align: middle;\n",
              "    }\n",
              "\n",
              "    .dataframe tbody tr th {\n",
              "        vertical-align: top;\n",
              "    }\n",
              "\n",
              "    .dataframe thead th {\n",
              "        text-align: right;\n",
              "    }\n",
              "</style>\n",
              "<table border=\"1\" class=\"dataframe\">\n",
              "  <thead>\n",
              "    <tr style=\"text-align: right;\">\n",
              "      <th></th>\n",
              "      <th>Name</th>\n",
              "      <th>Author</th>\n",
              "      <th>Genre</th>\n",
              "    </tr>\n",
              "  </thead>\n",
              "  <tbody>\n",
              "    <tr>\n",
              "      <th>count</th>\n",
              "      <td>550</td>\n",
              "      <td>550</td>\n",
              "      <td>550</td>\n",
              "    </tr>\n",
              "    <tr>\n",
              "      <th>unique</th>\n",
              "      <td>351</td>\n",
              "      <td>248</td>\n",
              "      <td>2</td>\n",
              "    </tr>\n",
              "    <tr>\n",
              "      <th>top</th>\n",
              "      <td>Publication Manual of the American Psychologic...</td>\n",
              "      <td>Jeff Kinney</td>\n",
              "      <td>Non Fiction</td>\n",
              "    </tr>\n",
              "    <tr>\n",
              "      <th>freq</th>\n",
              "      <td>10</td>\n",
              "      <td>12</td>\n",
              "      <td>310</td>\n",
              "    </tr>\n",
              "  </tbody>\n",
              "</table>\n",
              "</div>"
            ],
            "text/plain": [
              "                                                     Name  ...        Genre\n",
              "count                                                 550  ...          550\n",
              "unique                                                351  ...            2\n",
              "top     Publication Manual of the American Psychologic...  ...  Non Fiction\n",
              "freq                                                   10  ...          310\n",
              "\n",
              "[4 rows x 3 columns]"
            ]
          },
          "metadata": {
            "tags": []
          },
          "execution_count": 37
        }
      ]
    },
    {
      "cell_type": "code",
      "metadata": {
        "colab": {
          "base_uri": "https://localhost:8080/"
        },
        "id": "vYEwYi_qaFEn",
        "outputId": "12986b1f-9204-47a1-82cf-cb0eb56fd867"
      },
      "source": [
        "# let's show if the dataset is balanced or imbalanced between fiction and non fiction categories\n",
        "books_df.Genre.value_counts(normalize=True)"
      ],
      "execution_count": null,
      "outputs": [
        {
          "output_type": "execute_result",
          "data": {
            "text/plain": [
              "Non Fiction    0.563636\n",
              "Fiction        0.436364\n",
              "Name: Genre, dtype: float64"
            ]
          },
          "metadata": {
            "tags": []
          },
          "execution_count": 38
        }
      ]
    },
    {
      "cell_type": "markdown",
      "metadata": {
        "id": "pnQuAc-RfVJc"
      },
      "source": [
        "There is a slight difference between the percentage of fiction and non-fiction books `43:56`, so the dataset can be considered balanced."
      ]
    },
    {
      "cell_type": "code",
      "metadata": {
        "colab": {
          "base_uri": "https://localhost:8080/",
          "height": 442
        },
        "id": "WjJ3cqNm2MEK",
        "outputId": "dc9412e1-e728-4ed7-8efd-4420a13716d7"
      },
      "source": [
        "book_by_genre = books_df.groupby('Genre')\n",
        "cnt = book_by_genre.count()\n",
        "print(cnt)\n",
        "\n",
        "fig,ax = plt.subplots(figsize=(10,6))\n",
        "plt.pie([240,310],labels=['Fiction', 'Non Fiction'],autopct='%1.1f%%')\n",
        "plt.title('% Of Fiction And Non-Fiction in 550 Bestsellers')\n",
        "plt.show()"
      ],
      "execution_count": null,
      "outputs": [
        {
          "output_type": "stream",
          "text": [
            "             Name  Author  User Rating  Reviews  Price  Year\n",
            "Genre                                                       \n",
            "Fiction       240     240          240      240    240   240\n",
            "Non Fiction   310     310          310      310    310   310\n"
          ],
          "name": "stdout"
        },
        {
          "output_type": "display_data",
          "data": {
            "image/png": "[encoded data removed]",
            "text/plain": [
              "<Figure size 720x432 with 1 Axes>"
            ]
          },
          "metadata": {
            "tags": []
          }
        }
      ]
    },
    {
      "cell_type": "markdown",
      "metadata": {
        "id": "tnOxlm3g4iYd"
      },
      "source": [
        "We can easily see from the graph that there are more non-fiction books with 56.4% among the bestsellers than fiction books which represents 43.6%."
      ]
    },
    {
      "cell_type": "markdown",
      "metadata": {
        "id": "hpAjDyRMhafy"
      },
      "source": [
        "## Bestseller's ratings\n",
        "\n",
        " Top 50 rated books. I set the condition that the top 50 best-selling books must have above the average of reviews.\n"
      ]
    },
    {
      "cell_type": "code",
      "metadata": {
        "id": "9GP39NxrdAuc"
      },
      "source": [
        "import math\n",
        "\n",
        "reviews_mean = math.ceil(books_df['Reviews'].mean())\n",
        "\n",
        "book_review = books_df.groupby(['Name', 'Author', 'Genre'], as_index=False)[['User Rating', 'Reviews']].mean()\n",
        "book_review = book_review[book_review.Reviews > reviews_mean]\n",
        "\n",
        "book_review = book_review.sort_values('User Rating', ascending=False).head(50)"
      ],
      "execution_count": null,
      "outputs": []
    },
    {
      "cell_type": "code",
      "metadata": {
        "colab": {
          "base_uri": "https://localhost:8080/",
          "height": 1000
        },
        "id": "46gCcSjVleqT",
        "outputId": "f5745202-6bed-4b17-cb1d-243e54fe1bdb"
      },
      "source": [
        "book_review"
      ],
      "execution_count": null,
      "outputs": [
        {
          "output_type": "execute_result",
          "data": {
            "text/html": [
              "<div>\n",
              "<style scoped>\n",
              "    .dataframe tbody tr th:only-of-type {\n",
              "        vertical-align: middle;\n",
              "    }\n",
              "\n",
              "    .dataframe tbody tr th {\n",
              "        vertical-align: top;\n",
              "    }\n",
              "\n",
              "    .dataframe thead th {\n",
              "        text-align: right;\n",
              "    }\n",
              "</style>\n",
              "<table border=\"1\" class=\"dataframe\">\n",
              "  <thead>\n",
              "    <tr style=\"text-align: right;\">\n",
              "      <th></th>\n",
              "      <th>Name</th>\n",
              "      <th>Author</th>\n",
              "      <th>Genre</th>\n",
              "      <th>User Rating</th>\n",
              "      <th>Reviews</th>\n",
              "    </tr>\n",
              "  </thead>\n",
              "  <tbody>\n",
              "    <tr>\n",
              "      <th>34340</th>\n",
              "      <td>Dog Man: Fetch-22: From the Creator of Captain...</td>\n",
              "      <td>Dav Pilkey</td>\n",
              "      <td>Fiction</td>\n",
              "      <td>4.9</td>\n",
              "      <td>12619.0</td>\n",
              "    </tr>\n",
              "    <tr>\n",
              "      <th>57762</th>\n",
              "      <td>Harry Potter and the Chamber of Secrets: The I...</td>\n",
              "      <td>J.K. Rowling</td>\n",
              "      <td>Fiction</td>\n",
              "      <td>4.9</td>\n",
              "      <td>19622.0</td>\n",
              "    </tr>\n",
              "    <tr>\n",
              "      <th>17908</th>\n",
              "      <td>Brown Bear, Brown Bear, What Do You See?</td>\n",
              "      <td>Bill Martin Jr.</td>\n",
              "      <td>Fiction</td>\n",
              "      <td>4.9</td>\n",
              "      <td>14344.0</td>\n",
              "    </tr>\n",
              "    <tr>\n",
              "      <th>69863</th>\n",
              "      <td>Jesus Calling: Enjoying Peace in His Presence ...</td>\n",
              "      <td>Sarah Young</td>\n",
              "      <td>Non Fiction</td>\n",
              "      <td>4.9</td>\n",
              "      <td>19576.0</td>\n",
              "    </tr>\n",
              "    <tr>\n",
              "      <th>88434</th>\n",
              "      <td>Oh, the Places You'll Go!</td>\n",
              "      <td>Dr. Seuss</td>\n",
              "      <td>Fiction</td>\n",
              "      <td>4.9</td>\n",
              "      <td>21834.0</td>\n",
              "    </tr>\n",
              "    <tr>\n",
              "      <th>153926</th>\n",
              "      <td>The Very Hungry Caterpillar</td>\n",
              "      <td>Eric Carle</td>\n",
              "      <td>Fiction</td>\n",
              "      <td>4.9</td>\n",
              "      <td>19546.0</td>\n",
              "    </tr>\n",
              "    <tr>\n",
              "      <th>128242</th>\n",
              "      <td>The Help</td>\n",
              "      <td>Kathryn Stockett</td>\n",
              "      <td>Fiction</td>\n",
              "      <td>4.8</td>\n",
              "      <td>13871.0</td>\n",
              "    </tr>\n",
              "    <tr>\n",
              "      <th>81250</th>\n",
              "      <td>Love You Forever</td>\n",
              "      <td>Robert Munsch</td>\n",
              "      <td>Fiction</td>\n",
              "      <td>4.8</td>\n",
              "      <td>18613.0</td>\n",
              "    </tr>\n",
              "    <tr>\n",
              "      <th>57264</th>\n",
              "      <td>Harry Potter Paperback Box Set (Books 1-7)</td>\n",
              "      <td>J. K. Rowling</td>\n",
              "      <td>Fiction</td>\n",
              "      <td>4.8</td>\n",
              "      <td>13471.0</td>\n",
              "    </tr>\n",
              "    <tr>\n",
              "      <th>93740</th>\n",
              "      <td>Player's Handbook (Dungeons &amp; Dragons)</td>\n",
              "      <td>Wizards RPG Team</td>\n",
              "      <td>Fiction</td>\n",
              "      <td>4.8</td>\n",
              "      <td>16990.0</td>\n",
              "    </tr>\n",
              "    <tr>\n",
              "      <th>99629</th>\n",
              "      <td>School Zone - Big Preschool Workbook - Ages 4 ...</td>\n",
              "      <td>School Zone</td>\n",
              "      <td>Non Fiction</td>\n",
              "      <td>4.8</td>\n",
              "      <td>23047.0</td>\n",
              "    </tr>\n",
              "    <tr>\n",
              "      <th>48310</th>\n",
              "      <td>Giraffes Can't Dance</td>\n",
              "      <td>Giles Andreae</td>\n",
              "      <td>Fiction</td>\n",
              "      <td>4.8</td>\n",
              "      <td>14038.0</td>\n",
              "    </tr>\n",
              "    <tr>\n",
              "      <th>107817</th>\n",
              "      <td>The 5 Love Languages: The Secret to Love that ...</td>\n",
              "      <td>Gary Chapman</td>\n",
              "      <td>Non Fiction</td>\n",
              "      <td>4.8</td>\n",
              "      <td>25554.0</td>\n",
              "    </tr>\n",
              "    <tr>\n",
              "      <th>112147</th>\n",
              "      <td>The Body Keeps the Score: Brain, Mind, and Bod...</td>\n",
              "      <td>Bessel van der Kolk M.D.</td>\n",
              "      <td>Non Fiction</td>\n",
              "      <td>4.8</td>\n",
              "      <td>12361.0</td>\n",
              "    </tr>\n",
              "    <tr>\n",
              "      <th>114191</th>\n",
              "      <td>The Boys in the Boat: Nine Americans and Their...</td>\n",
              "      <td>Daniel James Brown</td>\n",
              "      <td>Non Fiction</td>\n",
              "      <td>4.8</td>\n",
              "      <td>23358.0</td>\n",
              "    </tr>\n",
              "    <tr>\n",
              "      <th>65510</th>\n",
              "      <td>If Animals Kissed Good Night</td>\n",
              "      <td>Ann Whitford Paul</td>\n",
              "      <td>Fiction</td>\n",
              "      <td>4.8</td>\n",
              "      <td>16643.0</td>\n",
              "    </tr>\n",
              "    <tr>\n",
              "      <th>15217</th>\n",
              "      <td>Becoming</td>\n",
              "      <td>Michelle Obama</td>\n",
              "      <td>Non Fiction</td>\n",
              "      <td>4.8</td>\n",
              "      <td>61133.0</td>\n",
              "    </tr>\n",
              "    <tr>\n",
              "      <th>155346</th>\n",
              "      <td>The Wonky Donkey</td>\n",
              "      <td>Craig Smith</td>\n",
              "      <td>Fiction</td>\n",
              "      <td>4.8</td>\n",
              "      <td>30183.0</td>\n",
              "    </tr>\n",
              "    <tr>\n",
              "      <th>172984</th>\n",
              "      <td>Wonder</td>\n",
              "      <td>R. J. Palacio</td>\n",
              "      <td>Fiction</td>\n",
              "      <td>4.8</td>\n",
              "      <td>21625.0</td>\n",
              "    </tr>\n",
              "    <tr>\n",
              "      <th>169768</th>\n",
              "      <td>Where the Crawdads Sing</td>\n",
              "      <td>Delia Owens</td>\n",
              "      <td>Fiction</td>\n",
              "      <td>4.8</td>\n",
              "      <td>87841.0</td>\n",
              "    </tr>\n",
              "    <tr>\n",
              "      <th>169495</th>\n",
              "      <td>When Breath Becomes Air</td>\n",
              "      <td>Paul Kalanithi</td>\n",
              "      <td>Non Fiction</td>\n",
              "      <td>4.8</td>\n",
              "      <td>13779.0</td>\n",
              "    </tr>\n",
              "    <tr>\n",
              "      <th>130404</th>\n",
              "      <td>The Hunger Games Trilogy Boxed Set (1)</td>\n",
              "      <td>Suzanne Collins</td>\n",
              "      <td>Fiction</td>\n",
              "      <td>4.8</td>\n",
              "      <td>16949.0</td>\n",
              "    </tr>\n",
              "    <tr>\n",
              "      <th>162977</th>\n",
              "      <td>Unbroken: A World War II Story of Survival, Re...</td>\n",
              "      <td>Laura Hillenbrand</td>\n",
              "      <td>Non Fiction</td>\n",
              "      <td>4.8</td>\n",
              "      <td>29673.0</td>\n",
              "    </tr>\n",
              "    <tr>\n",
              "      <th>19465</th>\n",
              "      <td>Can't Hurt Me: Master Your Mind and Defy the Odds</td>\n",
              "      <td>David Goggins</td>\n",
              "      <td>Non Fiction</td>\n",
              "      <td>4.8</td>\n",
              "      <td>16244.0</td>\n",
              "    </tr>\n",
              "    <tr>\n",
              "      <th>159920</th>\n",
              "      <td>To Kill a Mockingbird</td>\n",
              "      <td>Harper Lee</td>\n",
              "      <td>Fiction</td>\n",
              "      <td>4.8</td>\n",
              "      <td>26234.0</td>\n",
              "    </tr>\n",
              "    <tr>\n",
              "      <th>139164</th>\n",
              "      <td>The Nightingale: A Novel</td>\n",
              "      <td>Kristin Hannah</td>\n",
              "      <td>Fiction</td>\n",
              "      <td>4.8</td>\n",
              "      <td>49288.0</td>\n",
              "    </tr>\n",
              "    <tr>\n",
              "      <th>1261</th>\n",
              "      <td>12 Rules for Life: An Antidote to Chaos</td>\n",
              "      <td>Jordan B. Peterson</td>\n",
              "      <td>Non Fiction</td>\n",
              "      <td>4.7</td>\n",
              "      <td>18979.0</td>\n",
              "    </tr>\n",
              "    <tr>\n",
              "      <th>129412</th>\n",
              "      <td>The Hunger Games</td>\n",
              "      <td>Suzanne Collins</td>\n",
              "      <td>Fiction</td>\n",
              "      <td>4.7</td>\n",
              "      <td>32122.0</td>\n",
              "    </tr>\n",
              "    <tr>\n",
              "      <th>62105</th>\n",
              "      <td>How to Win Friends &amp; Influence People</td>\n",
              "      <td>Dale Carnegie</td>\n",
              "      <td>Non Fiction</td>\n",
              "      <td>4.7</td>\n",
              "      <td>25001.0</td>\n",
              "    </tr>\n",
              "    <tr>\n",
              "      <th>109484</th>\n",
              "      <td>The Alchemist</td>\n",
              "      <td>Paulo Coelho</td>\n",
              "      <td>Fiction</td>\n",
              "      <td>4.7</td>\n",
              "      <td>35799.0</td>\n",
              "    </tr>\n",
              "    <tr>\n",
              "      <th>136926</th>\n",
              "      <td>The Martian</td>\n",
              "      <td>Andy Weir</td>\n",
              "      <td>Fiction</td>\n",
              "      <td>4.7</td>\n",
              "      <td>39459.0</td>\n",
              "    </tr>\n",
              "    <tr>\n",
              "      <th>119296</th>\n",
              "      <td>The Fault in Our Stars</td>\n",
              "      <td>John Green</td>\n",
              "      <td>Fiction</td>\n",
              "      <td>4.7</td>\n",
              "      <td>50482.0</td>\n",
              "    </tr>\n",
              "    <tr>\n",
              "      <th>120669</th>\n",
              "      <td>The Four Agreements: A Practical Guide to Pers...</td>\n",
              "      <td>Don Miguel Ruiz</td>\n",
              "      <td>Non Fiction</td>\n",
              "      <td>4.7</td>\n",
              "      <td>23308.0</td>\n",
              "    </tr>\n",
              "    <tr>\n",
              "      <th>129908</th>\n",
              "      <td>The Hunger Games (Book 1)</td>\n",
              "      <td>Suzanne Collins</td>\n",
              "      <td>Fiction</td>\n",
              "      <td>4.7</td>\n",
              "      <td>32122.0</td>\n",
              "    </tr>\n",
              "    <tr>\n",
              "      <th>229</th>\n",
              "      <td>10-Day Green Smoothie Cleanse</td>\n",
              "      <td>JJ Smith</td>\n",
              "      <td>Non Fiction</td>\n",
              "      <td>4.7</td>\n",
              "      <td>17350.0</td>\n",
              "    </tr>\n",
              "    <tr>\n",
              "      <th>83739</th>\n",
              "      <td>Milk and Honey</td>\n",
              "      <td>Rupi Kaur</td>\n",
              "      <td>Non Fiction</td>\n",
              "      <td>4.7</td>\n",
              "      <td>17739.0</td>\n",
              "    </tr>\n",
              "    <tr>\n",
              "      <th>173843</th>\n",
              "      <td>You Are a Badass: How to Stop Doubting Your Gr...</td>\n",
              "      <td>Jen Sincero</td>\n",
              "      <td>Non Fiction</td>\n",
              "      <td>4.7</td>\n",
              "      <td>14331.0</td>\n",
              "    </tr>\n",
              "    <tr>\n",
              "      <th>3168</th>\n",
              "      <td>A Game of Thrones / A Clash of Kings / A Storm...</td>\n",
              "      <td>George R. R. Martin</td>\n",
              "      <td>Fiction</td>\n",
              "      <td>4.7</td>\n",
              "      <td>19735.0</td>\n",
              "    </tr>\n",
              "    <tr>\n",
              "      <th>32182</th>\n",
              "      <td>Doctor Sleep: A Novel</td>\n",
              "      <td>Stephen King</td>\n",
              "      <td>Fiction</td>\n",
              "      <td>4.7</td>\n",
              "      <td>15845.0</td>\n",
              "    </tr>\n",
              "    <tr>\n",
              "      <th>40137</th>\n",
              "      <td>Educated: A Memoir</td>\n",
              "      <td>Tara Westover</td>\n",
              "      <td>Non Fiction</td>\n",
              "      <td>4.7</td>\n",
              "      <td>28729.0</td>\n",
              "    </tr>\n",
              "    <tr>\n",
              "      <th>20788</th>\n",
              "      <td>Catching Fire (The Hunger Games)</td>\n",
              "      <td>Suzanne Collins</td>\n",
              "      <td>Fiction</td>\n",
              "      <td>4.7</td>\n",
              "      <td>22614.0</td>\n",
              "    </tr>\n",
              "    <tr>\n",
              "      <th>3496</th>\n",
              "      <td>A Gentleman in Moscow: A Novel</td>\n",
              "      <td>Amor Towles</td>\n",
              "      <td>Fiction</td>\n",
              "      <td>4.7</td>\n",
              "      <td>19699.0</td>\n",
              "    </tr>\n",
              "    <tr>\n",
              "      <th>45047</th>\n",
              "      <td>First 100 Words</td>\n",
              "      <td>Roger Priddy</td>\n",
              "      <td>Non Fiction</td>\n",
              "      <td>4.7</td>\n",
              "      <td>17323.0</td>\n",
              "    </tr>\n",
              "    <tr>\n",
              "      <th>60989</th>\n",
              "      <td>Heaven is for Real: A Little Boy's Astounding ...</td>\n",
              "      <td>Todd Burpo</td>\n",
              "      <td>Non Fiction</td>\n",
              "      <td>4.7</td>\n",
              "      <td>15779.0</td>\n",
              "    </tr>\n",
              "    <tr>\n",
              "      <th>1678</th>\n",
              "      <td>1984 (Signet Classics)</td>\n",
              "      <td>George Orwell</td>\n",
              "      <td>Fiction</td>\n",
              "      <td>4.7</td>\n",
              "      <td>21424.0</td>\n",
              "    </tr>\n",
              "    <tr>\n",
              "      <th>112912</th>\n",
              "      <td>The Book Thief</td>\n",
              "      <td>Markus Zusak</td>\n",
              "      <td>Fiction</td>\n",
              "      <td>4.6</td>\n",
              "      <td>23148.0</td>\n",
              "    </tr>\n",
              "    <tr>\n",
              "      <th>147306</th>\n",
              "      <td>The Shack: Where Tragedy Confronts Eternity</td>\n",
              "      <td>William P. Young</td>\n",
              "      <td>Fiction</td>\n",
              "      <td>4.6</td>\n",
              "      <td>19720.0</td>\n",
              "    </tr>\n",
              "    <tr>\n",
              "      <th>91356</th>\n",
              "      <td>Orphan Train</td>\n",
              "      <td>Christina Baker Kline</td>\n",
              "      <td>Fiction</td>\n",
              "      <td>4.6</td>\n",
              "      <td>21930.0</td>\n",
              "    </tr>\n",
              "    <tr>\n",
              "      <th>4642</th>\n",
              "      <td>A Man Called Ove: A Novel</td>\n",
              "      <td>Fredrik Backman</td>\n",
              "      <td>Fiction</td>\n",
              "      <td>4.6</td>\n",
              "      <td>23848.0</td>\n",
              "    </tr>\n",
              "    <tr>\n",
              "      <th>96890</th>\n",
              "      <td>Ready Player One: A Novel</td>\n",
              "      <td>Ernest Cline</td>\n",
              "      <td>Fiction</td>\n",
              "      <td>4.6</td>\n",
              "      <td>22536.0</td>\n",
              "    </tr>\n",
              "  </tbody>\n",
              "</table>\n",
              "</div>"
            ],
            "text/plain": [
              "                                                     Name  ...  Reviews\n",
              "34340   Dog Man: Fetch-22: From the Creator of Captain...  ...  12619.0\n",
              "57762   Harry Potter and the Chamber of Secrets: The I...  ...  19622.0\n",
              "17908            Brown Bear, Brown Bear, What Do You See?  ...  14344.0\n",
              "69863   Jesus Calling: Enjoying Peace in His Presence ...  ...  19576.0\n",
              "88434                           Oh, the Places You'll Go!  ...  21834.0\n",
              "153926                        The Very Hungry Caterpillar  ...  19546.0\n",
              "128242                                           The Help  ...  13871.0\n",
              "81250                                    Love You Forever  ...  18613.0\n",
              "57264          Harry Potter Paperback Box Set (Books 1-7)  ...  13471.0\n",
              "93740              Player's Handbook (Dungeons & Dragons)  ...  16990.0\n",
              "99629   School Zone - Big Preschool Workbook - Ages 4 ...  ...  23047.0\n",
              "48310                                Giraffes Can't Dance  ...  14038.0\n",
              "107817  The 5 Love Languages: The Secret to Love that ...  ...  25554.0\n",
              "112147  The Body Keeps the Score: Brain, Mind, and Bod...  ...  12361.0\n",
              "114191  The Boys in the Boat: Nine Americans and Their...  ...  23358.0\n",
              "65510                        If Animals Kissed Good Night  ...  16643.0\n",
              "15217                                            Becoming  ...  61133.0\n",
              "155346                                   The Wonky Donkey  ...  30183.0\n",
              "172984                                             Wonder  ...  21625.0\n",
              "169768                            Where the Crawdads Sing  ...  87841.0\n",
              "169495                            When Breath Becomes Air  ...  13779.0\n",
              "130404             The Hunger Games Trilogy Boxed Set (1)  ...  16949.0\n",
              "162977  Unbroken: A World War II Story of Survival, Re...  ...  29673.0\n",
              "19465   Can't Hurt Me: Master Your Mind and Defy the Odds  ...  16244.0\n",
              "159920                              To Kill a Mockingbird  ...  26234.0\n",
              "139164                           The Nightingale: A Novel  ...  49288.0\n",
              "1261              12 Rules for Life: An Antidote to Chaos  ...  18979.0\n",
              "129412                                   The Hunger Games  ...  32122.0\n",
              "62105               How to Win Friends & Influence People  ...  25001.0\n",
              "109484                                      The Alchemist  ...  35799.0\n",
              "136926                                        The Martian  ...  39459.0\n",
              "119296                             The Fault in Our Stars  ...  50482.0\n",
              "120669  The Four Agreements: A Practical Guide to Pers...  ...  23308.0\n",
              "129908                          The Hunger Games (Book 1)  ...  32122.0\n",
              "229                         10-Day Green Smoothie Cleanse  ...  17350.0\n",
              "83739                                      Milk and Honey  ...  17739.0\n",
              "173843  You Are a Badass: How to Stop Doubting Your Gr...  ...  14331.0\n",
              "3168    A Game of Thrones / A Clash of Kings / A Storm...  ...  19735.0\n",
              "32182                               Doctor Sleep: A Novel  ...  15845.0\n",
              "40137                                  Educated: A Memoir  ...  28729.0\n",
              "20788                    Catching Fire (The Hunger Games)  ...  22614.0\n",
              "3496                       A Gentleman in Moscow: A Novel  ...  19699.0\n",
              "45047                                     First 100 Words  ...  17323.0\n",
              "60989   Heaven is for Real: A Little Boy's Astounding ...  ...  15779.0\n",
              "1678                               1984 (Signet Classics)  ...  21424.0\n",
              "112912                                     The Book Thief  ...  23148.0\n",
              "147306        The Shack: Where Tragedy Confronts Eternity  ...  19720.0\n",
              "91356                                        Orphan Train  ...  21930.0\n",
              "4642                            A Man Called Ove: A Novel  ...  23848.0\n",
              "96890                           Ready Player One: A Novel  ...  22536.0\n",
              "\n",
              "[50 rows x 5 columns]"
            ]
          },
          "metadata": {
            "tags": []
          },
          "execution_count": 42
        }
      ]
    },
    {
      "cell_type": "code",
      "metadata": {
        "colab": {
          "base_uri": "https://localhost:8080/",
          "height": 496
        },
        "id": "w5JoFJkem5Gs",
        "outputId": "0fbd3d0a-fc4b-4055-abb9-8fee49f9e12f"
      },
      "source": [
        "plt.figure(figsize=(12,8))\n",
        "sns.barplot(x='User Rating', y='Reviews', hue='Genre', data=book_review)\n",
        "plt.show()"
      ],
      "execution_count": null,
      "outputs": [
        {
          "output_type": "display_data",
          "data": {
            "image/png": "[encoded data removed]",
            "text/plain": [
              "<Figure size 864x576 with 1 Axes>"
            ]
          },
          "metadata": {
            "tags": [],
            "needs_background": "light"
          }
        }
      ]
    },
    {
      "cell_type": "markdown",
      "metadata": {
        "id": "bpx-u8CpsUBC"
      },
      "source": [
        "It can be seen that the top rated books are those that fall into the fiction category.However, we can also see significant differences in the number of reviews, with some books having just over 15,000 reviews while some have around 40,000."
      ]
    },
    {
      "cell_type": "markdown",
      "metadata": {
        "id": "WmMUXYHb0OyS"
      },
      "source": [
        "### Top 10 Authors"
      ]
    },
    {
      "cell_type": "code",
      "metadata": {
        "colab": {
          "base_uri": "https://localhost:8080/",
          "height": 513
        },
        "id": "_G77E_7z8noh",
        "outputId": "1a8fd2f8-ae7c-4e01-b5e8-52e6b2395c52"
      },
      "source": [
        "plt.figure(figsize=(12,8))\n",
        "plt.title('Author')\n",
        "plt.bar('Author', 'User Rating', data=book_review[:10])"
      ],
      "execution_count": null,
      "outputs": [
        {
          "output_type": "execute_result",
          "data": {
            "text/plain": [
              "<BarContainer object of 10 artists>"
            ]
          },
          "metadata": {
            "tags": []
          },
          "execution_count": 44
        },
        {
          "output_type": "display_data",
          "data": {
            "image/png": "[encoded data removed]",
            "text/plain": [
              "<Figure size 864x576 with 1 Axes>"
            ]
          },
          "metadata": {
            "tags": [],
            "needs_background": "light"
          }
        }
      ]
    },
    {
      "cell_type": "markdown",
      "metadata": {
        "id": "-mZVyCFw9vLP"
      },
      "source": [
        "## Relationship between Price and User Rating"
      ]
    },
    {
      "cell_type": "code",
      "metadata": {
        "colab": {
          "base_uri": "https://localhost:8080/",
          "height": 405
        },
        "id": "yy2Ja8TH8uLB",
        "outputId": "aba5de69-0eb7-46de-d40e-597aba6d8fe5"
      },
      "source": [
        "plt.figure(figsize=(12,6))\n",
        "sns.regplot(data=books_df, x='Price', y='User Rating')\n",
        "plt.title('Price vs Rating')\n",
        "plt.show()"
      ],
      "execution_count": null,
      "outputs": [
        {
          "output_type": "display_data",
          "data": {
            "image/png": "[encoded data removed]",
            "text/plain": [
              "<Figure size 864x432 with 1 Axes>"
            ]
          },
          "metadata": {
            "tags": [],
            "needs_background": "light"
          }
        }
      ]
    },
    {
      "cell_type": "markdown",
      "metadata": {
        "id": "-sRH0XFNAklF"
      },
      "source": [
        "The price of top-selling books shows a slight negative correlation with user ratings, but this does not affect as the majority of books to buy are not in the top 50."
      ]
    },
    {
      "cell_type": "markdown",
      "metadata": {
        "id": "X0CFopecA7UJ"
      },
      "source": [
        "### Relationship between Price and Reviews"
      ]
    },
    {
      "cell_type": "code",
      "metadata": {
        "colab": {
          "base_uri": "https://localhost:8080/",
          "height": 405
        },
        "id": "PyZ9FBPt-EqG",
        "outputId": "db37d345-d879-4f86-c889-89267bdb6a48"
      },
      "source": [
        "plt.figure(figsize=(12,6))\n",
        "sns.regplot(data=books_df, x='Price', y='Reviews')\n",
        "plt.title('Price vs Rating')\n",
        "plt.show()"
      ],
      "execution_count": null,
      "outputs": [
        {
          "output_type": "display_data",
          "data": {
            "image/png": "[encoded data removed]",
            "text/plain": [
              "<Figure size 864x432 with 1 Axes>"
            ]
          },
          "metadata": {
            "tags": [],
            "needs_background": "light"
          }
        }
      ]
    },
    {
      "cell_type": "markdown",
      "metadata": {
        "id": "O6PqALE-Be5p"
      },
      "source": [
        "Reviews and Price also tend to show a similar correlation as User Rating and Price."
      ]
    },
    {
      "cell_type": "markdown",
      "metadata": {
        "id": "af__fzwXCZWF"
      },
      "source": [
        "### Top 10 most expensive books"
      ]
    },
    {
      "cell_type": "code",
      "metadata": {
        "colab": {
          "base_uri": "https://localhost:8080/",
          "height": 359
        },
        "id": "gwHtcc1eBI9Y",
        "outputId": "c3a0e236-10c7-49b5-eb03-7be82056121f"
      },
      "source": [
        "books = books_df.groupby(['Name', 'Author', 'Genre'], as_index=False)['Price'].\\\n",
        "mean().sort_values('Price', ascending=False).head(10)\n",
        "\n",
        "books"
      ],
      "execution_count": null,
      "outputs": [
        {
          "output_type": "execute_result",
          "data": {
            "text/html": [
              "<div>\n",
              "<style scoped>\n",
              "    .dataframe tbody tr th:only-of-type {\n",
              "        vertical-align: middle;\n",
              "    }\n",
              "\n",
              "    .dataframe tbody tr th {\n",
              "        vertical-align: top;\n",
              "    }\n",
              "\n",
              "    .dataframe thead th {\n",
              "        text-align: right;\n",
              "    }\n",
              "</style>\n",
              "<table border=\"1\" class=\"dataframe\">\n",
              "  <thead>\n",
              "    <tr style=\"text-align: right;\">\n",
              "      <th></th>\n",
              "      <th>Name</th>\n",
              "      <th>Author</th>\n",
              "      <th>Genre</th>\n",
              "      <th>Price</th>\n",
              "    </tr>\n",
              "  </thead>\n",
              "  <tbody>\n",
              "    <tr>\n",
              "      <th>27797</th>\n",
              "      <td>Diagnostic and Statistical Manual of Mental Di...</td>\n",
              "      <td>American Psychiatric Association</td>\n",
              "      <td>Non Fiction</td>\n",
              "      <td>105.0</td>\n",
              "    </tr>\n",
              "    <tr>\n",
              "      <th>152714</th>\n",
              "      <td>The Twilight Saga Collection</td>\n",
              "      <td>Stephenie Meyer</td>\n",
              "      <td>Fiction</td>\n",
              "      <td>82.0</td>\n",
              "    </tr>\n",
              "    <tr>\n",
              "      <th>55845</th>\n",
              "      <td>Hamilton: The Revolution</td>\n",
              "      <td>Lin-Manuel Miranda</td>\n",
              "      <td>Non Fiction</td>\n",
              "      <td>54.0</td>\n",
              "    </tr>\n",
              "    <tr>\n",
              "      <th>113145</th>\n",
              "      <td>The Book of Basketball: The NBA According to T...</td>\n",
              "      <td>Bill Simmons</td>\n",
              "      <td>Non Fiction</td>\n",
              "      <td>53.0</td>\n",
              "    </tr>\n",
              "    <tr>\n",
              "      <th>57264</th>\n",
              "      <td>Harry Potter Paperback Box Set (Books 1-7)</td>\n",
              "      <td>J. K. Rowling</td>\n",
              "      <td>Fiction</td>\n",
              "      <td>52.0</td>\n",
              "    </tr>\n",
              "    <tr>\n",
              "      <th>94759</th>\n",
              "      <td>Publication Manual of the American Psychologic...</td>\n",
              "      <td>American Psychological Association</td>\n",
              "      <td>Non Fiction</td>\n",
              "      <td>46.0</td>\n",
              "    </tr>\n",
              "    <tr>\n",
              "      <th>165180</th>\n",
              "      <td>Watchmen</td>\n",
              "      <td>Alan Moore</td>\n",
              "      <td>Fiction</td>\n",
              "      <td>42.0</td>\n",
              "    </tr>\n",
              "    <tr>\n",
              "      <th>139837</th>\n",
              "      <td>The Official SAT Study Guide</td>\n",
              "      <td>The College Board</td>\n",
              "      <td>Non Fiction</td>\n",
              "      <td>40.0</td>\n",
              "    </tr>\n",
              "    <tr>\n",
              "      <th>109484</th>\n",
              "      <td>The Alchemist</td>\n",
              "      <td>Paulo Coelho</td>\n",
              "      <td>Fiction</td>\n",
              "      <td>39.0</td>\n",
              "    </tr>\n",
              "    <tr>\n",
              "      <th>140333</th>\n",
              "      <td>The Official SAT Study Guide, 2016 Edition (Of...</td>\n",
              "      <td>The College Board</td>\n",
              "      <td>Non Fiction</td>\n",
              "      <td>36.0</td>\n",
              "    </tr>\n",
              "  </tbody>\n",
              "</table>\n",
              "</div>"
            ],
            "text/plain": [
              "                                                     Name  ...  Price\n",
              "27797   Diagnostic and Statistical Manual of Mental Di...  ...  105.0\n",
              "152714                       The Twilight Saga Collection  ...   82.0\n",
              "55845                            Hamilton: The Revolution  ...   54.0\n",
              "113145  The Book of Basketball: The NBA According to T...  ...   53.0\n",
              "57264          Harry Potter Paperback Box Set (Books 1-7)  ...   52.0\n",
              "94759   Publication Manual of the American Psychologic...  ...   46.0\n",
              "165180                                           Watchmen  ...   42.0\n",
              "139837                       The Official SAT Study Guide  ...   40.0\n",
              "109484                                      The Alchemist  ...   39.0\n",
              "140333  The Official SAT Study Guide, 2016 Edition (Of...  ...   36.0\n",
              "\n",
              "[10 rows x 4 columns]"
            ]
          },
          "metadata": {
            "tags": []
          },
          "execution_count": 48
        }
      ]
    },
    {
      "cell_type": "code",
      "metadata": {
        "colab": {
          "base_uri": "https://localhost:8080/",
          "height": 513
        },
        "id": "75Hwwny5COtC",
        "outputId": "f018d0e2-79d3-459c-e7c1-742fbdfdfd74"
      },
      "source": [
        "plt.figure(figsize=(12,8))\n",
        "plt.bar('Name', 'Price', data=books)\n",
        "plt.xlabel('Books Name')\n",
        "plt.ylabel('Books Price')"
      ],
      "execution_count": null,
      "outputs": [
        {
          "output_type": "execute_result",
          "data": {
            "text/plain": [
              "Text(0, 0.5, 'Books Price')"
            ]
          },
          "metadata": {
            "tags": []
          },
          "execution_count": 49
        },
        {
          "output_type": "display_data",
          "data": {
            "image/png": "[encoded data removed]",
            "text/plain": [
              "<Figure size 864x576 with 1 Axes>"
            ]
          },
          "metadata": {
            "tags": [],
            "needs_background": "light"
          }
        }
      ]
    },
    {
      "cell_type": "markdown",
      "metadata": {
        "id": "zG1C9JAW6-MT"
      },
      "source": [
        "## Number Of Bestsellers By Each Year"
      ]
    },
    {
      "cell_type": "code",
      "metadata": {
        "colab": {
          "base_uri": "https://localhost:8080/",
          "height": 568
        },
        "id": "ie1IvCiQkamc",
        "outputId": "3b8aa133-f387-4b4b-cd9b-02edb46b519b"
      },
      "source": [
        "book_by_year = books_df.groupby('Genre')\n",
        "years = range(2009,2020)\n",
        "\n",
        "non_fiction = book_by_year.get_group((\"Non Fiction\"))\n",
        "non_fict = non_fiction.groupby('Year')['Name'].count().values\n",
        "\n",
        "fiction = book_by_year.get_group(\"Fiction\")\n",
        "fict = fiction.groupby('Year')['Name'].count().values\n",
        "\n",
        "\n",
        "figure, ax = plt.subplots(figsize=(12,9))\n",
        "\n",
        "plt.plot(years,non_fict,  'o--', label='Non Fiction Bestsellers')\n",
        "plt.plot(years,fict, 's--', label='Fiction Bestsellers')\n",
        "plt.title('Number Of Bestsellers By Each Year')\n",
        "plt.xlabel('Years')\n",
        "plt.ylabel('Number Of Bestsellers')\n",
        "plt.legend()\n",
        "plt.show()"
      ],
      "execution_count": null,
      "outputs": [
        {
          "output_type": "display_data",
          "data": {
            "image/png": "[encoded data removed]",
            "text/plain": [
              "<Figure size 864x648 with 1 Axes>"
            ]
          },
          "metadata": {
            "tags": [],
            "needs_background": "light"
          }
        }
      ]
    },
    {
      "cell_type": "markdown",
      "metadata": {
        "id": "OI2LaVMx9Mwo"
      },
      "source": [
        "Apart from the year of 2014 when fiction books achieved great success, we can see that non-fiction books dominate Amazon's bestsellers compared to fiction books."
      ]
    },
    {
      "cell_type": "markdown",
      "metadata": {
        "id": "_Pmzs6LH9fOz"
      },
      "source": [
        "# Hypothesis Testing\n",
        "\n",
        "I will try to interpret the data using statistical models."
      ]
    },
    {
      "cell_type": "code",
      "metadata": {
        "id": "LOPY9dl5Fpg7",
        "colab": {
          "base_uri": "https://localhost:8080/",
          "height": 313
        },
        "outputId": "29866e2f-22cc-4fb8-f13a-3340782cdb28"
      },
      "source": [
        "plt.title('Fiction vs Non Fiction')\n",
        "sns.countplot(x='Genre', data=book_review)"
      ],
      "execution_count": null,
      "outputs": [
        {
          "output_type": "execute_result",
          "data": {
            "text/plain": [
              "<matplotlib.axes._subplots.AxesSubplot at 0x7feaf7101450>"
            ]
          },
          "metadata": {
            "tags": []
          },
          "execution_count": 19
        },
        {
          "output_type": "display_data",
          "data": {
            "image/png": "[encoded data removed]",
            "text/plain": [
              "<Figure size 432x288 with 1 Axes>"
            ]
          },
          "metadata": {
            "tags": [],
            "needs_background": "light"
          }
        }
      ]
    },
    {
      "cell_type": "code",
      "metadata": {
        "colab": {
          "base_uri": "https://localhost:8080/",
          "height": 297
        },
        "id": "TCjIYohHX7R7",
        "outputId": "d4a46a1d-78fa-4ecf-8ce8-a64239b5ac93"
      },
      "source": [
        "books_df.groupby('Genre')['Reviews'].describe().T"
      ],
      "execution_count": null,
      "outputs": [
        {
          "output_type": "execute_result",
          "data": {
            "text/html": [
              "<div>\n",
              "<style scoped>\n",
              "    .dataframe tbody tr th:only-of-type {\n",
              "        vertical-align: middle;\n",
              "    }\n",
              "\n",
              "    .dataframe tbody tr th {\n",
              "        vertical-align: top;\n",
              "    }\n",
              "\n",
              "    .dataframe thead th {\n",
              "        text-align: right;\n",
              "    }\n",
              "</style>\n",
              "<table border=\"1\" class=\"dataframe\">\n",
              "  <thead>\n",
              "    <tr style=\"text-align: right;\">\n",
              "      <th>Genre</th>\n",
              "      <th>Fiction</th>\n",
              "      <th>Non Fiction</th>\n",
              "    </tr>\n",
              "  </thead>\n",
              "  <tbody>\n",
              "    <tr>\n",
              "      <th>count</th>\n",
              "      <td>240.000000</td>\n",
              "      <td>310.000000</td>\n",
              "    </tr>\n",
              "    <tr>\n",
              "      <th>mean</th>\n",
              "      <td>15683.791667</td>\n",
              "      <td>9065.145161</td>\n",
              "    </tr>\n",
              "    <tr>\n",
              "      <th>std</th>\n",
              "      <td>13984.120890</td>\n",
              "      <td>8606.737629</td>\n",
              "    </tr>\n",
              "    <tr>\n",
              "      <th>min</th>\n",
              "      <td>548.000000</td>\n",
              "      <td>37.000000</td>\n",
              "    </tr>\n",
              "    <tr>\n",
              "      <th>25%</th>\n",
              "      <td>6162.500000</td>\n",
              "      <td>3235.000000</td>\n",
              "    </tr>\n",
              "    <tr>\n",
              "      <th>50%</th>\n",
              "      <td>10922.000000</td>\n",
              "      <td>6346.000000</td>\n",
              "    </tr>\n",
              "    <tr>\n",
              "      <th>75%</th>\n",
              "      <td>21834.000000</td>\n",
              "      <td>11124.250000</td>\n",
              "    </tr>\n",
              "    <tr>\n",
              "      <th>max</th>\n",
              "      <td>87841.000000</td>\n",
              "      <td>61133.000000</td>\n",
              "    </tr>\n",
              "  </tbody>\n",
              "</table>\n",
              "</div>"
            ],
            "text/plain": [
              "Genre       Fiction   Non Fiction\n",
              "count    240.000000    310.000000\n",
              "mean   15683.791667   9065.145161\n",
              "std    13984.120890   8606.737629\n",
              "min      548.000000     37.000000\n",
              "25%     6162.500000   3235.000000\n",
              "50%    10922.000000   6346.000000\n",
              "75%    21834.000000  11124.250000\n",
              "max    87841.000000  61133.000000"
            ]
          },
          "metadata": {
            "tags": []
          },
          "execution_count": 20
        }
      ]
    },
    {
      "cell_type": "markdown",
      "metadata": {
        "id": "Ai64VvW7YL6t"
      },
      "source": [
        "We will use the t-test to compare the two sampling means from the Reviews to see if the difference is significant or not."
      ]
    },
    {
      "cell_type": "code",
      "metadata": {
        "colab": {
          "base_uri": "https://localhost:8080/",
          "height": 316
        },
        "id": "tFfBsuP4XFxh",
        "outputId": "6dca0ab6-9cd7-4e9f-dc2c-105efff0ef03"
      },
      "source": [
        "# books_df.boxplot(column=['Reviews'], by='Genre', figsize=(10,6))\n",
        "# plt.show()\n",
        "non_fict_rat = list(non_fiction['Reviews'])\n",
        "fict_rat = list(fiction['Reviews'])\n",
        "ratings = [non_fict_rat,fict_rat]\n",
        "names= ['Non Fiction Bestsellers','Fiction Bestsellers']\n",
        "\n",
        "figu, ax = plt.subplots(figsize=(9,5))\n",
        "ax = sns.boxplot(data = ratings)\n",
        "ax.set_xticklabels(names)\n",
        "plt.show()"
      ],
      "execution_count": null,
      "outputs": [
        {
          "output_type": "display_data",
          "data": {
            "image/png": "[encoded data removed]",
            "text/plain": [
              "<Figure size 648x360 with 1 Axes>"
            ]
          },
          "metadata": {
            "tags": [],
            "needs_background": "light"
          }
        }
      ]
    },
    {
      "cell_type": "markdown",
      "metadata": {
        "id": "ciZYxEl8XsUX"
      },
      "source": [
        "We notice a difference between the means, but we want to know if it is due to a fluctuation of the samples or it is due to the Reviews variable."
      ]
    },
    {
      "cell_type": "markdown",
      "metadata": {
        "id": "onyHC4_gYWd3"
      },
      "source": [
        "### Samples"
      ]
    },
    {
      "cell_type": "code",
      "metadata": {
        "colab": {
          "base_uri": "https://localhost:8080/"
        },
        "id": "j2mVfS6RXXpr",
        "outputId": "fc25e7b4-36b0-4c86-bfb9-5cbe72c72dea"
      },
      "source": [
        "sample1 = books_df[books_df.Genre == 'Fiction']\n",
        "sample2 = books_df[books_df.Genre == 'Non Fiction']\n",
        "\n",
        "sample1.shape, sample2.shape"
      ],
      "execution_count": null,
      "outputs": [
        {
          "output_type": "execute_result",
          "data": {
            "text/plain": [
              "((240, 7), (310, 7))"
            ]
          },
          "metadata": {
            "tags": []
          },
          "execution_count": 56
        }
      ]
    },
    {
      "cell_type": "markdown",
      "metadata": {
        "id": "9miFKFwa--YF"
      },
      "source": [
        "The non-fiction bestseller books sample contains more than fiction bestseller books, let's fix it."
      ]
    },
    {
      "cell_type": "code",
      "metadata": {
        "colab": {
          "base_uri": "https://localhost:8080/"
        },
        "id": "PMWQrlJWY5Qe",
        "outputId": "8308e480-b30c-46a2-f87a-69f2f4144e5c"
      },
      "source": [
        "sample2 = sample2.sample(sample1.shape[0])\n",
        "sample1.shape"
      ],
      "execution_count": null,
      "outputs": [
        {
          "output_type": "execute_result",
          "data": {
            "text/plain": [
              "(240, 7)"
            ]
          },
          "metadata": {
            "tags": []
          },
          "execution_count": 57
        }
      ]
    },
    {
      "cell_type": "markdown",
      "metadata": {
        "id": "5wzW3DjDZLob"
      },
      "source": [
        "## Performing the independent t-test\n",
        "Check the variability if is the same or not by levene's test"
      ]
    },
    {
      "cell_type": "code",
      "metadata": {
        "colab": {
          "base_uri": "https://localhost:8080/"
        },
        "id": "PnQr1foEY8bS",
        "outputId": "3db4192a-6a57-4c8b-84de-31600990e188"
      },
      "source": [
        "from scipy import stats\n",
        "\n",
        "stats.levene(sample1['Reviews'], sample2['Reviews'])"
      ],
      "execution_count": null,
      "outputs": [
        {
          "output_type": "execute_result",
          "data": {
            "text/plain": [
              "LeveneResult(statistic=21.356304861153806, pvalue=4.912229328394209e-06)"
            ]
          },
          "metadata": {
            "tags": []
          },
          "execution_count": 58
        }
      ]
    },
    {
      "cell_type": "markdown",
      "metadata": {
        "id": "5g08ysFTZr91"
      },
      "source": [
        "It can be seen that the two samples have not the same variability since the $\\alpha=0.05 > p_{value}$."
      ]
    },
    {
      "cell_type": "code",
      "metadata": {
        "id": "MbXutiwsZT8P"
      },
      "source": [
        "from sklearn.preprocessing import scale\n",
        "\n",
        "diff = scale(np.array(sample1['Reviews'], dtype=np.float) \\\n",
        "             - np.array(sample2['Reviews'], dtype=np.float))"
      ],
      "execution_count": null,
      "outputs": []
    },
    {
      "cell_type": "markdown",
      "metadata": {
        "id": "nO_Bat4xAi_d"
      },
      "source": [
        "The distribution of the residuals between the two groups should follow the normal distribution."
      ]
    },
    {
      "cell_type": "code",
      "metadata": {
        "colab": {
          "base_uri": "https://localhost:8080/",
          "height": 564
        },
        "id": "TOXf6UIjauef",
        "outputId": "c134541c-9c1d-4142-bda1-f1c4a53ee52a"
      },
      "source": [
        "plt.figure(figsize=(10,8))\n",
        "plt.hist(diff)"
      ],
      "execution_count": null,
      "outputs": [
        {
          "output_type": "execute_result",
          "data": {
            "text/plain": [
              "(array([ 1.,  2., 20., 78., 88., 36.,  5.,  7.,  1.,  2.]),\n",
              " array([-3.58219937, -2.75610679, -1.9300142 , -1.10392161, -0.27782902,\n",
              "         0.54826357,  1.37435616,  2.20044875,  3.02654134,  3.85263393,\n",
              "         4.67872651]),\n",
              " <a list of 10 Patch objects>)"
            ]
          },
          "metadata": {
            "tags": []
          },
          "execution_count": 60
        },
        {
          "output_type": "display_data",
          "data": {
            "image/png": "[encoded data removed]",
            "text/plain": [
              "<Figure size 720x576 with 1 Axes>"
            ]
          },
          "metadata": {
            "tags": [],
            "needs_background": "light"
          }
        }
      ]
    },
    {
      "cell_type": "code",
      "metadata": {
        "colab": {
          "base_uri": "https://localhost:8080/",
          "height": 513
        },
        "id": "fm5IKGnNazIq",
        "outputId": "3f71cc15-2fb2-4e7f-e640-1589f29e82af"
      },
      "source": [
        "plt.figure(figsize=(10, 8))\n",
        "stats.probplot(diff, dist='norm', plot=plt)\n",
        "plt.show()"
      ],
      "execution_count": null,
      "outputs": [
        {
          "output_type": "display_data",
          "data": {
            "image/png": "[encoded data removed]",
            "text/plain": [
              "<Figure size 720x576 with 1 Axes>"
            ]
          },
          "metadata": {
            "tags": [],
            "needs_background": "light"
          }
        }
      ]
    },
    {
      "cell_type": "code",
      "metadata": {
        "colab": {
          "base_uri": "https://localhost:8080/"
        },
        "id": "AYvjvp4ca5O8",
        "outputId": "d6d85662-6b3f-4224-95b3-5ecf1b262e6d"
      },
      "source": [
        "stats.shapiro(diff)"
      ],
      "execution_count": null,
      "outputs": [
        {
          "output_type": "execute_result",
          "data": {
            "text/plain": [
              "(0.9246484041213989, 1.0600802458071712e-09)"
            ]
          },
          "metadata": {
            "tags": []
          },
          "execution_count": 62
        }
      ]
    },
    {
      "cell_type": "code",
      "metadata": {
        "colab": {
          "base_uri": "https://localhost:8080/"
        },
        "id": "5zwJHXtFa-UY",
        "outputId": "6a513014-b1ff-425e-e635-e0dfebbcd8ad"
      },
      "source": [
        "stats.ttest_ind(sample1['Reviews'], sample2['Reviews'], equal_var=False)"
      ],
      "execution_count": null,
      "outputs": [
        {
          "output_type": "execute_result",
          "data": {
            "text/plain": [
              "Ttest_indResult(statistic=6.521340358338955, pvalue=2.1879774203326544e-10)"
            ]
          },
          "metadata": {
            "tags": []
          },
          "execution_count": 63
        }
      ]
    },
    {
      "cell_type": "markdown",
      "metadata": {
        "id": "4kyg9cxMAvDx"
      },
      "source": [
        "Looking at the value of the p value we can say that the difference in the means of Reviews is not statistically significant, so we can reject the null hypothesis where the means of bestselling fiction and non-fiction are equal. We can confirm this result using the researchpy library."
      ]
    },
    {
      "cell_type": "code",
      "metadata": {
        "id": "7671AG5_ACOM"
      },
      "source": [
        "!pip install researchpy --quiet"
      ],
      "execution_count": null,
      "outputs": []
    },
    {
      "cell_type": "code",
      "metadata": {
        "id": "z-pMSqpKbLoo",
        "colab": {
          "base_uri": "https://localhost:8080/"
        },
        "outputId": "766c94dc-fdc2-4f6b-c971-b33faadc8983"
      },
      "source": [
        "import researchpy as rp\n",
        "\n",
        "descriptives, results = rp.ttest(sample1['Reviews'], sample2['Reviews'],\n",
        "                                equal_variances=False)"
      ],
      "execution_count": null,
      "outputs": [
        {
          "output_type": "stream",
          "text": [
            "/usr/local/lib/python3.7/dist-packages/statsmodels/tools/_testing.py:19: FutureWarning: pandas.util.testing is deprecated. Use the functions in the public API at pandas.testing instead.\n",
            "  import pandas.util.testing as tm\n"
          ],
          "name": "stderr"
        }
      ]
    },
    {
      "cell_type": "code",
      "metadata": {
        "colab": {
          "base_uri": "https://localhost:8080/",
          "height": 142
        },
        "id": "PKB4cAEFbayE",
        "outputId": "fa5ddfd2-65eb-4205-ff09-e9280906839c"
      },
      "source": [
        "descriptives"
      ],
      "execution_count": null,
      "outputs": [
        {
          "output_type": "execute_result",
          "data": {
            "text/html": [
              "<div>\n",
              "<style scoped>\n",
              "    .dataframe tbody tr th:only-of-type {\n",
              "        vertical-align: middle;\n",
              "    }\n",
              "\n",
              "    .dataframe tbody tr th {\n",
              "        vertical-align: top;\n",
              "    }\n",
              "\n",
              "    .dataframe thead th {\n",
              "        text-align: right;\n",
              "    }\n",
              "</style>\n",
              "<table border=\"1\" class=\"dataframe\">\n",
              "  <thead>\n",
              "    <tr style=\"text-align: right;\">\n",
              "      <th></th>\n",
              "      <th>Variable</th>\n",
              "      <th>N</th>\n",
              "      <th>Mean</th>\n",
              "      <th>SD</th>\n",
              "      <th>SE</th>\n",
              "      <th>95% Conf.</th>\n",
              "      <th>Interval</th>\n",
              "    </tr>\n",
              "  </thead>\n",
              "  <tbody>\n",
              "    <tr>\n",
              "      <th>0</th>\n",
              "      <td>Reviews</td>\n",
              "      <td>240.0</td>\n",
              "      <td>15683.791667</td>\n",
              "      <td>13984.120890</td>\n",
              "      <td>902.671122</td>\n",
              "      <td>13905.584253</td>\n",
              "      <td>17461.999080</td>\n",
              "    </tr>\n",
              "    <tr>\n",
              "      <th>1</th>\n",
              "      <td>Reviews</td>\n",
              "      <td>240.0</td>\n",
              "      <td>8861.275000</td>\n",
              "      <td>8192.935226</td>\n",
              "      <td>528.851695</td>\n",
              "      <td>7819.469207</td>\n",
              "      <td>9903.080793</td>\n",
              "    </tr>\n",
              "    <tr>\n",
              "      <th>2</th>\n",
              "      <td>combined</td>\n",
              "      <td>480.0</td>\n",
              "      <td>12272.533333</td>\n",
              "      <td>11946.827754</td>\n",
              "      <td>545.295588</td>\n",
              "      <td>11201.066296</td>\n",
              "      <td>13344.000370</td>\n",
              "    </tr>\n",
              "  </tbody>\n",
              "</table>\n",
              "</div>"
            ],
            "text/plain": [
              "   Variable      N          Mean  ...          SE     95% Conf.      Interval\n",
              "0   Reviews  240.0  15683.791667  ...  902.671122  13905.584253  17461.999080\n",
              "1   Reviews  240.0   8861.275000  ...  528.851695   7819.469207   9903.080793\n",
              "2  combined  480.0  12272.533333  ...  545.295588  11201.066296  13344.000370\n",
              "\n",
              "[3 rows x 7 columns]"
            ]
          },
          "metadata": {
            "tags": []
          },
          "execution_count": 67
        }
      ]
    },
    {
      "cell_type": "code",
      "metadata": {
        "colab": {
          "base_uri": "https://localhost:8080/",
          "height": 359
        },
        "id": "Dz6t21Cqb5Vj",
        "outputId": "297019ba-7b8f-4a2e-e3a4-e0704f613c29"
      },
      "source": [
        "results"
      ],
      "execution_count": null,
      "outputs": [
        {
          "output_type": "execute_result",
          "data": {
            "text/html": [
              "<div>\n",
              "<style scoped>\n",
              "    .dataframe tbody tr th:only-of-type {\n",
              "        vertical-align: middle;\n",
              "    }\n",
              "\n",
              "    .dataframe tbody tr th {\n",
              "        vertical-align: top;\n",
              "    }\n",
              "\n",
              "    .dataframe thead th {\n",
              "        text-align: right;\n",
              "    }\n",
              "</style>\n",
              "<table border=\"1\" class=\"dataframe\">\n",
              "  <thead>\n",
              "    <tr style=\"text-align: right;\">\n",
              "      <th></th>\n",
              "      <th>Welch's t-test</th>\n",
              "      <th>results</th>\n",
              "    </tr>\n",
              "  </thead>\n",
              "  <tbody>\n",
              "    <tr>\n",
              "      <th>0</th>\n",
              "      <td>Difference (Reviews - Reviews) =</td>\n",
              "      <td>6822.5167</td>\n",
              "    </tr>\n",
              "    <tr>\n",
              "      <th>1</th>\n",
              "      <td>Degrees of freedom =</td>\n",
              "      <td>385.7793</td>\n",
              "    </tr>\n",
              "    <tr>\n",
              "      <th>2</th>\n",
              "      <td>t =</td>\n",
              "      <td>6.5213</td>\n",
              "    </tr>\n",
              "    <tr>\n",
              "      <th>3</th>\n",
              "      <td>Two side test p value =</td>\n",
              "      <td>0.0000</td>\n",
              "    </tr>\n",
              "    <tr>\n",
              "      <th>4</th>\n",
              "      <td>Difference &lt; 0 p value =</td>\n",
              "      <td>1.0000</td>\n",
              "    </tr>\n",
              "    <tr>\n",
              "      <th>5</th>\n",
              "      <td>Difference &gt; 0 p value =</td>\n",
              "      <td>0.0000</td>\n",
              "    </tr>\n",
              "    <tr>\n",
              "      <th>6</th>\n",
              "      <td>Cohen's d =</td>\n",
              "      <td>0.5953</td>\n",
              "    </tr>\n",
              "    <tr>\n",
              "      <th>7</th>\n",
              "      <td>Hedge's g =</td>\n",
              "      <td>0.5944</td>\n",
              "    </tr>\n",
              "    <tr>\n",
              "      <th>8</th>\n",
              "      <td>Glass's delta =</td>\n",
              "      <td>0.4879</td>\n",
              "    </tr>\n",
              "    <tr>\n",
              "      <th>9</th>\n",
              "      <td>r =</td>\n",
              "      <td>0.3151</td>\n",
              "    </tr>\n",
              "  </tbody>\n",
              "</table>\n",
              "</div>"
            ],
            "text/plain": [
              "                      Welch's t-test    results\n",
              "0  Difference (Reviews - Reviews) =   6822.5167\n",
              "1              Degrees of freedom =    385.7793\n",
              "2                               t =      6.5213\n",
              "3           Two side test p value =      0.0000\n",
              "4          Difference < 0 p value =      1.0000\n",
              "5          Difference > 0 p value =      0.0000\n",
              "6                       Cohen's d =      0.5953\n",
              "7                       Hedge's g =      0.5944\n",
              "8                   Glass's delta =      0.4879\n",
              "9                               r =      0.3151"
            ]
          },
          "metadata": {
            "tags": []
          },
          "execution_count": 68
        }
      ]
    },
    {
      "cell_type": "markdown",
      "metadata": {
        "id": "M0LYON6gDFM1"
      },
      "source": [
        "# Conclusion\n",
        "Fiction books are the most rated and reviewed, while non-fiction books are the most expensive and also the best-selling as bestsellers."
      ]
    },
    {
      "cell_type": "code",
      "metadata": {
        "id": "ybzOcLh3b8z2",
        "colab": {
          "base_uri": "https://localhost:8080/"
        },
        "outputId": "68799f94-ad82-4687-c7e6-892f7cf36e2d"
      },
      "source": [
        "!pip install jovian --update --quiet"
      ],
      "execution_count": null,
      "outputs": [
        {
          "output_type": "stream",
          "text": [
            "\n",
            "Usage:   \n",
            "  pip3 install [options] <requirement specifier> [package-index-options] ...\n",
            "  pip3 install [options] -r <requirements file> [package-index-options] ...\n",
            "  pip3 install [options] [-e] <vcs project url> ...\n",
            "  pip3 install [options] [-e] <local project path> ...\n",
            "  pip3 install [options] <archive url/path> ...\n",
            "\n",
            "no such option: --update\n"
          ],
          "name": "stdout"
        }
      ]
    },
    {
      "cell_type": "code",
      "metadata": {
        "id": "r-b7E3qJFIQ-"
      },
      "source": [
        ""
      ],
      "execution_count": null,
      "outputs": []
    }
  ]
}